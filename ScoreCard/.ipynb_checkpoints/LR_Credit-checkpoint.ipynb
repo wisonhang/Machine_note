{
 "cells": [
  {
   "cell_type": "code",
   "execution_count": 1,
   "metadata": {},
   "outputs": [
    {
     "name": "stderr",
     "output_type": "stream",
     "text": [
      "Using TensorFlow backend.\n"
     ]
    }
   ],
   "source": [
    "%matplotlib inline\n",
    "import pandas as pd\n",
    "import numpy as np \n",
    "import matplotlib.pyplot as plt\n",
    "# plt.rcParams['font.sans-serif'] = ['SimHei']\n",
    "# plt.rcParams['axes.unicode_minus'] = False\n",
    "import seaborn as sns\n",
    "import matplotlib.gridspec as gridspec\n",
    "pd.set_option(\"display.max_columns\",101)\n",
    "pd.set_option('display.float_format', lambda x: '%.5f' % x) #为了直观的显示数字，不采用科学计数法\n",
    "pd.options.display.max_rows = 15 #最多显示15行\n",
    "import warnings\n",
    "\n",
    "import imblearn\n",
    "from imblearn.over_sampling import SMOTE\n",
    "import xgboost as xgb\n",
    "import matplotlib\n",
    "import matplotlib.pyplot as plt\n",
    "from sklearn.ensemble import RandomForestClassifier, GradientBoostingClassifier\n",
    "from sklearn.datasets import make_classification\n",
    "from sklearn.linear_model import LogisticRegression\n",
    "from sklearn.metrics import roc_curve, roc_auc_score\n",
    "from sklearn.model_selection import train_test_split\n",
    "from sklearn.preprocessing import OneHotEncoder\n",
    "from xgboost.sklearn import XGBClassifier"
   ]
  },
  {
   "cell_type": "code",
   "execution_count": 2,
   "metadata": {},
   "outputs": [
    {
     "data": {
      "text/html": [
       "<div>\n",
       "<style scoped>\n",
       "    .dataframe tbody tr th:only-of-type {\n",
       "        vertical-align: middle;\n",
       "    }\n",
       "\n",
       "    .dataframe tbody tr th {\n",
       "        vertical-align: top;\n",
       "    }\n",
       "\n",
       "    .dataframe thead th {\n",
       "        text-align: right;\n",
       "    }\n",
       "</style>\n",
       "<table border=\"1\" class=\"dataframe\">\n",
       "  <thead>\n",
       "    <tr style=\"text-align: right;\">\n",
       "      <th></th>\n",
       "      <th>SeriousDlqin2yrs</th>\n",
       "      <th>RevolvingUtilizationOfUnsecuredLines</th>\n",
       "      <th>age</th>\n",
       "      <th>NumberOfTime30-59DaysPastDueNotWorse</th>\n",
       "      <th>DebtRatio</th>\n",
       "      <th>MonthlyIncome</th>\n",
       "      <th>NumberOfOpenCreditLinesAndLoans</th>\n",
       "      <th>NumberOfTimes90DaysLate</th>\n",
       "      <th>NumberRealEstateLoansOrLines</th>\n",
       "      <th>NumberOfTime60-89DaysPastDueNotWorse</th>\n",
       "      <th>NumberOfDependents</th>\n",
       "    </tr>\n",
       "  </thead>\n",
       "  <tbody>\n",
       "    <tr>\n",
       "      <th>1</th>\n",
       "      <td>1</td>\n",
       "      <td>0.76613</td>\n",
       "      <td>45</td>\n",
       "      <td>2</td>\n",
       "      <td>0.80298</td>\n",
       "      <td>9120.00000</td>\n",
       "      <td>13</td>\n",
       "      <td>0</td>\n",
       "      <td>6</td>\n",
       "      <td>0</td>\n",
       "      <td>2.00000</td>\n",
       "    </tr>\n",
       "    <tr>\n",
       "      <th>2</th>\n",
       "      <td>0</td>\n",
       "      <td>0.95715</td>\n",
       "      <td>40</td>\n",
       "      <td>0</td>\n",
       "      <td>0.12188</td>\n",
       "      <td>2600.00000</td>\n",
       "      <td>4</td>\n",
       "      <td>0</td>\n",
       "      <td>0</td>\n",
       "      <td>0</td>\n",
       "      <td>1.00000</td>\n",
       "    </tr>\n",
       "    <tr>\n",
       "      <th>3</th>\n",
       "      <td>0</td>\n",
       "      <td>0.65818</td>\n",
       "      <td>38</td>\n",
       "      <td>1</td>\n",
       "      <td>0.08511</td>\n",
       "      <td>3042.00000</td>\n",
       "      <td>2</td>\n",
       "      <td>1</td>\n",
       "      <td>0</td>\n",
       "      <td>0</td>\n",
       "      <td>0.00000</td>\n",
       "    </tr>\n",
       "    <tr>\n",
       "      <th>4</th>\n",
       "      <td>0</td>\n",
       "      <td>0.23381</td>\n",
       "      <td>30</td>\n",
       "      <td>0</td>\n",
       "      <td>0.03605</td>\n",
       "      <td>3300.00000</td>\n",
       "      <td>5</td>\n",
       "      <td>0</td>\n",
       "      <td>0</td>\n",
       "      <td>0</td>\n",
       "      <td>0.00000</td>\n",
       "    </tr>\n",
       "    <tr>\n",
       "      <th>5</th>\n",
       "      <td>0</td>\n",
       "      <td>0.90724</td>\n",
       "      <td>49</td>\n",
       "      <td>1</td>\n",
       "      <td>0.02493</td>\n",
       "      <td>63588.00000</td>\n",
       "      <td>7</td>\n",
       "      <td>0</td>\n",
       "      <td>1</td>\n",
       "      <td>0</td>\n",
       "      <td>0.00000</td>\n",
       "    </tr>\n",
       "  </tbody>\n",
       "</table>\n",
       "</div>"
      ],
      "text/plain": [
       "   SeriousDlqin2yrs  RevolvingUtilizationOfUnsecuredLines  age  \\\n",
       "1                 1                               0.76613   45   \n",
       "2                 0                               0.95715   40   \n",
       "3                 0                               0.65818   38   \n",
       "4                 0                               0.23381   30   \n",
       "5                 0                               0.90724   49   \n",
       "\n",
       "   NumberOfTime30-59DaysPastDueNotWorse  DebtRatio  MonthlyIncome  \\\n",
       "1                                     2    0.80298     9120.00000   \n",
       "2                                     0    0.12188     2600.00000   \n",
       "3                                     1    0.08511     3042.00000   \n",
       "4                                     0    0.03605     3300.00000   \n",
       "5                                     1    0.02493    63588.00000   \n",
       "\n",
       "   NumberOfOpenCreditLinesAndLoans  NumberOfTimes90DaysLate  \\\n",
       "1                               13                        0   \n",
       "2                                4                        0   \n",
       "3                                2                        1   \n",
       "4                                5                        0   \n",
       "5                                7                        0   \n",
       "\n",
       "   NumberRealEstateLoansOrLines  NumberOfTime60-89DaysPastDueNotWorse  \\\n",
       "1                             6                                     0   \n",
       "2                             0                                     0   \n",
       "3                             0                                     0   \n",
       "4                             0                                     0   \n",
       "5                             1                                     0   \n",
       "\n",
       "   NumberOfDependents  \n",
       "1             2.00000  \n",
       "2             1.00000  \n",
       "3             0.00000  \n",
       "4             0.00000  \n",
       "5             0.00000  "
      ]
     },
     "execution_count": 2,
     "metadata": {},
     "output_type": "execute_result"
    }
   ],
   "source": [
    "rawdata=pd.read_csv('cs_training.csv',index_col=[0])\n",
    "rawdata.head()"
   ]
  },
  {
   "cell_type": "code",
   "execution_count": 3,
   "metadata": {},
   "outputs": [
    {
     "data": {
      "text/html": [
       "<div>\n",
       "<style scoped>\n",
       "    .dataframe tbody tr th:only-of-type {\n",
       "        vertical-align: middle;\n",
       "    }\n",
       "\n",
       "    .dataframe tbody tr th {\n",
       "        vertical-align: top;\n",
       "    }\n",
       "\n",
       "    .dataframe thead th {\n",
       "        text-align: right;\n",
       "    }\n",
       "</style>\n",
       "<table border=\"1\" class=\"dataframe\">\n",
       "  <thead>\n",
       "    <tr style=\"text-align: right;\">\n",
       "      <th></th>\n",
       "      <th>好坏客户</th>\n",
       "      <th>可用额度比值</th>\n",
       "      <th>年龄</th>\n",
       "      <th>逾期30-59天笔数</th>\n",
       "      <th>负债率</th>\n",
       "      <th>月收入</th>\n",
       "      <th>信贷数量</th>\n",
       "      <th>逾期90天笔数</th>\n",
       "      <th>固定资产贷款量</th>\n",
       "      <th>逾期60-89天笔数</th>\n",
       "      <th>家属数量</th>\n",
       "    </tr>\n",
       "  </thead>\n",
       "  <tbody>\n",
       "    <tr>\n",
       "      <th>1</th>\n",
       "      <td>1</td>\n",
       "      <td>0.76613</td>\n",
       "      <td>45</td>\n",
       "      <td>2</td>\n",
       "      <td>0.80298</td>\n",
       "      <td>9120.00000</td>\n",
       "      <td>13</td>\n",
       "      <td>0</td>\n",
       "      <td>6</td>\n",
       "      <td>0</td>\n",
       "      <td>2.00000</td>\n",
       "    </tr>\n",
       "    <tr>\n",
       "      <th>2</th>\n",
       "      <td>0</td>\n",
       "      <td>0.95715</td>\n",
       "      <td>40</td>\n",
       "      <td>0</td>\n",
       "      <td>0.12188</td>\n",
       "      <td>2600.00000</td>\n",
       "      <td>4</td>\n",
       "      <td>0</td>\n",
       "      <td>0</td>\n",
       "      <td>0</td>\n",
       "      <td>1.00000</td>\n",
       "    </tr>\n",
       "    <tr>\n",
       "      <th>3</th>\n",
       "      <td>0</td>\n",
       "      <td>0.65818</td>\n",
       "      <td>38</td>\n",
       "      <td>1</td>\n",
       "      <td>0.08511</td>\n",
       "      <td>3042.00000</td>\n",
       "      <td>2</td>\n",
       "      <td>1</td>\n",
       "      <td>0</td>\n",
       "      <td>0</td>\n",
       "      <td>0.00000</td>\n",
       "    </tr>\n",
       "    <tr>\n",
       "      <th>4</th>\n",
       "      <td>0</td>\n",
       "      <td>0.23381</td>\n",
       "      <td>30</td>\n",
       "      <td>0</td>\n",
       "      <td>0.03605</td>\n",
       "      <td>3300.00000</td>\n",
       "      <td>5</td>\n",
       "      <td>0</td>\n",
       "      <td>0</td>\n",
       "      <td>0</td>\n",
       "      <td>0.00000</td>\n",
       "    </tr>\n",
       "    <tr>\n",
       "      <th>5</th>\n",
       "      <td>0</td>\n",
       "      <td>0.90724</td>\n",
       "      <td>49</td>\n",
       "      <td>1</td>\n",
       "      <td>0.02493</td>\n",
       "      <td>63588.00000</td>\n",
       "      <td>7</td>\n",
       "      <td>0</td>\n",
       "      <td>1</td>\n",
       "      <td>0</td>\n",
       "      <td>0.00000</td>\n",
       "    </tr>\n",
       "  </tbody>\n",
       "</table>\n",
       "</div>"
      ],
      "text/plain": [
       "   好坏客户  可用额度比值  年龄  逾期30-59天笔数     负债率         月收入  信贷数量  逾期90天笔数  固定资产贷款量  \\\n",
       "1     1 0.76613  45           2 0.80298  9120.00000    13        0        6   \n",
       "2     0 0.95715  40           0 0.12188  2600.00000     4        0        0   \n",
       "3     0 0.65818  38           1 0.08511  3042.00000     2        1        0   \n",
       "4     0 0.23381  30           0 0.03605  3300.00000     5        0        0   \n",
       "5     0 0.90724  49           1 0.02493 63588.00000     7        0        1   \n",
       "\n",
       "   逾期60-89天笔数    家属数量  \n",
       "1           0 2.00000  \n",
       "2           0 1.00000  \n",
       "3           0 0.00000  \n",
       "4           0 0.00000  \n",
       "5           0 0.00000  "
      ]
     },
     "execution_count": 3,
     "metadata": {},
     "output_type": "execute_result"
    }
   ],
   "source": [
    "column={'ID':'用户ID',\n",
    "        'SeriousDlqin2yrs':'好坏客户',\n",
    "        'RevolvingUtilizationOfUnsecuredLines':'可用额度比值',\n",
    "        'age':'年龄',\n",
    "        'NumberOfTime30-59DaysPastDueNotWorse':'逾期30-59天笔数',\n",
    "        'DebtRatio':'负债率',\n",
    "        'MonthlyIncome':'月收入',\n",
    "        'NumberOfOpenCreditLinesAndLoans':'信贷数量',\n",
    "        'NumberOfTimes90DaysLate':'逾期90天笔数',\n",
    "        'NumberRealEstateLoansOrLines':'固定资产贷款量',\n",
    "        'NumberOfTime60-89DaysPastDueNotWorse':'逾期60-89天笔数',\n",
    "        'NumberOfDependents':'家属数量'}\n",
    "rawdata.rename(columns=column,inplace=True)\n",
    "rawdata.head()"
   ]
  },
  {
   "cell_type": "code",
   "execution_count": 4,
   "metadata": {},
   "outputs": [
    {
     "data": {
      "text/html": [
       "<div>\n",
       "<style scoped>\n",
       "    .dataframe tbody tr th:only-of-type {\n",
       "        vertical-align: middle;\n",
       "    }\n",
       "\n",
       "    .dataframe tbody tr th {\n",
       "        vertical-align: top;\n",
       "    }\n",
       "\n",
       "    .dataframe thead th {\n",
       "        text-align: right;\n",
       "    }\n",
       "</style>\n",
       "<table border=\"1\" class=\"dataframe\">\n",
       "  <thead>\n",
       "    <tr style=\"text-align: right;\">\n",
       "      <th></th>\n",
       "      <th>count</th>\n",
       "      <th>mean</th>\n",
       "      <th>std</th>\n",
       "      <th>min</th>\n",
       "      <th>25%</th>\n",
       "      <th>50%</th>\n",
       "      <th>75%</th>\n",
       "      <th>max</th>\n",
       "    </tr>\n",
       "  </thead>\n",
       "  <tbody>\n",
       "    <tr>\n",
       "      <th>好坏客户</th>\n",
       "      <td>150000.00000</td>\n",
       "      <td>0.06684</td>\n",
       "      <td>0.24975</td>\n",
       "      <td>0.00000</td>\n",
       "      <td>0.00000</td>\n",
       "      <td>0.00000</td>\n",
       "      <td>0.00000</td>\n",
       "      <td>1.00000</td>\n",
       "    </tr>\n",
       "    <tr>\n",
       "      <th>可用额度比值</th>\n",
       "      <td>150000.00000</td>\n",
       "      <td>6.04844</td>\n",
       "      <td>249.75537</td>\n",
       "      <td>0.00000</td>\n",
       "      <td>0.02987</td>\n",
       "      <td>0.15418</td>\n",
       "      <td>0.55905</td>\n",
       "      <td>50708.00000</td>\n",
       "    </tr>\n",
       "    <tr>\n",
       "      <th>年龄</th>\n",
       "      <td>150000.00000</td>\n",
       "      <td>52.29521</td>\n",
       "      <td>14.77187</td>\n",
       "      <td>0.00000</td>\n",
       "      <td>41.00000</td>\n",
       "      <td>52.00000</td>\n",
       "      <td>63.00000</td>\n",
       "      <td>109.00000</td>\n",
       "    </tr>\n",
       "    <tr>\n",
       "      <th>逾期30-59天笔数</th>\n",
       "      <td>150000.00000</td>\n",
       "      <td>0.42103</td>\n",
       "      <td>4.19278</td>\n",
       "      <td>0.00000</td>\n",
       "      <td>0.00000</td>\n",
       "      <td>0.00000</td>\n",
       "      <td>0.00000</td>\n",
       "      <td>98.00000</td>\n",
       "    </tr>\n",
       "    <tr>\n",
       "      <th>负债率</th>\n",
       "      <td>150000.00000</td>\n",
       "      <td>353.00508</td>\n",
       "      <td>2037.81852</td>\n",
       "      <td>0.00000</td>\n",
       "      <td>0.17507</td>\n",
       "      <td>0.36651</td>\n",
       "      <td>0.86825</td>\n",
       "      <td>329664.00000</td>\n",
       "    </tr>\n",
       "    <tr>\n",
       "      <th>月收入</th>\n",
       "      <td>120269.00000</td>\n",
       "      <td>6670.22124</td>\n",
       "      <td>14384.67422</td>\n",
       "      <td>0.00000</td>\n",
       "      <td>3400.00000</td>\n",
       "      <td>5400.00000</td>\n",
       "      <td>8249.00000</td>\n",
       "      <td>3008750.00000</td>\n",
       "    </tr>\n",
       "    <tr>\n",
       "      <th>信贷数量</th>\n",
       "      <td>150000.00000</td>\n",
       "      <td>8.45276</td>\n",
       "      <td>5.14595</td>\n",
       "      <td>0.00000</td>\n",
       "      <td>5.00000</td>\n",
       "      <td>8.00000</td>\n",
       "      <td>11.00000</td>\n",
       "      <td>58.00000</td>\n",
       "    </tr>\n",
       "    <tr>\n",
       "      <th>逾期90天笔数</th>\n",
       "      <td>150000.00000</td>\n",
       "      <td>0.26597</td>\n",
       "      <td>4.16930</td>\n",
       "      <td>0.00000</td>\n",
       "      <td>0.00000</td>\n",
       "      <td>0.00000</td>\n",
       "      <td>0.00000</td>\n",
       "      <td>98.00000</td>\n",
       "    </tr>\n",
       "    <tr>\n",
       "      <th>固定资产贷款量</th>\n",
       "      <td>150000.00000</td>\n",
       "      <td>1.01824</td>\n",
       "      <td>1.12977</td>\n",
       "      <td>0.00000</td>\n",
       "      <td>0.00000</td>\n",
       "      <td>1.00000</td>\n",
       "      <td>2.00000</td>\n",
       "      <td>54.00000</td>\n",
       "    </tr>\n",
       "    <tr>\n",
       "      <th>逾期60-89天笔数</th>\n",
       "      <td>150000.00000</td>\n",
       "      <td>0.24039</td>\n",
       "      <td>4.15518</td>\n",
       "      <td>0.00000</td>\n",
       "      <td>0.00000</td>\n",
       "      <td>0.00000</td>\n",
       "      <td>0.00000</td>\n",
       "      <td>98.00000</td>\n",
       "    </tr>\n",
       "    <tr>\n",
       "      <th>家属数量</th>\n",
       "      <td>146076.00000</td>\n",
       "      <td>0.75722</td>\n",
       "      <td>1.11509</td>\n",
       "      <td>0.00000</td>\n",
       "      <td>0.00000</td>\n",
       "      <td>0.00000</td>\n",
       "      <td>1.00000</td>\n",
       "      <td>20.00000</td>\n",
       "    </tr>\n",
       "  </tbody>\n",
       "</table>\n",
       "</div>"
      ],
      "text/plain": [
       "                  count       mean         std     min        25%        50%  \\\n",
       "好坏客户       150000.00000    0.06684     0.24975 0.00000    0.00000    0.00000   \n",
       "可用额度比值     150000.00000    6.04844   249.75537 0.00000    0.02987    0.15418   \n",
       "年龄         150000.00000   52.29521    14.77187 0.00000   41.00000   52.00000   \n",
       "逾期30-59天笔数 150000.00000    0.42103     4.19278 0.00000    0.00000    0.00000   \n",
       "负债率        150000.00000  353.00508  2037.81852 0.00000    0.17507    0.36651   \n",
       "月收入        120269.00000 6670.22124 14384.67422 0.00000 3400.00000 5400.00000   \n",
       "信贷数量       150000.00000    8.45276     5.14595 0.00000    5.00000    8.00000   \n",
       "逾期90天笔数    150000.00000    0.26597     4.16930 0.00000    0.00000    0.00000   \n",
       "固定资产贷款量    150000.00000    1.01824     1.12977 0.00000    0.00000    1.00000   \n",
       "逾期60-89天笔数 150000.00000    0.24039     4.15518 0.00000    0.00000    0.00000   \n",
       "家属数量       146076.00000    0.75722     1.11509 0.00000    0.00000    0.00000   \n",
       "\n",
       "                  75%           max  \n",
       "好坏客户          0.00000       1.00000  \n",
       "可用额度比值        0.55905   50708.00000  \n",
       "年龄           63.00000     109.00000  \n",
       "逾期30-59天笔数    0.00000      98.00000  \n",
       "负债率           0.86825  329664.00000  \n",
       "月收入        8249.00000 3008750.00000  \n",
       "信贷数量         11.00000      58.00000  \n",
       "逾期90天笔数       0.00000      98.00000  \n",
       "固定资产贷款量       2.00000      54.00000  \n",
       "逾期60-89天笔数    0.00000      98.00000  \n",
       "家属数量          1.00000      20.00000  "
      ]
     },
     "execution_count": 4,
     "metadata": {},
     "output_type": "execute_result"
    }
   ],
   "source": [
    "rawdata.describe().T"
   ]
  },
  {
   "cell_type": "code",
   "execution_count": 5,
   "metadata": {},
   "outputs": [
    {
     "name": "stdout",
     "output_type": "stream",
     "text": [
      "<class 'pandas.core.frame.DataFrame'>\n",
      "Int64Index: 150000 entries, 1 to 150000\n",
      "Data columns (total 11 columns):\n",
      "好坏客户          150000 non-null int64\n",
      "可用额度比值        150000 non-null float64\n",
      "年龄            150000 non-null int64\n",
      "逾期30-59天笔数    150000 non-null int64\n",
      "负债率           150000 non-null float64\n",
      "月收入           120269 non-null float64\n",
      "信贷数量          150000 non-null int64\n",
      "逾期90天笔数       150000 non-null int64\n",
      "固定资产贷款量       150000 non-null int64\n",
      "逾期60-89天笔数    150000 non-null int64\n",
      "家属数量          146076 non-null float64\n",
      "dtypes: float64(4), int64(7)\n",
      "memory usage: 13.7 MB\n"
     ]
    },
    {
     "data": {
      "text/plain": [
       "0    139974\n",
       "1     10026\n",
       "Name: 好坏客户, dtype: int64"
      ]
     },
     "execution_count": 5,
     "metadata": {},
     "output_type": "execute_result"
    }
   ],
   "source": [
    "# 查看数据维度\n",
    "rawdata.shape\n",
    "# 查看数据类型和缺失值\n",
    "rawdata.info()\n",
    "# 查看标签分布\n",
    "rawdata['好坏客户'].value_counts()"
   ]
  },
  {
   "cell_type": "markdown",
   "metadata": {},
   "source": [
    "## 特征工程"
   ]
  },
  {
   "cell_type": "code",
   "execution_count": 6,
   "metadata": {},
   "outputs": [
    {
     "data": {
      "text/plain": [
       "好坏客户         0.00000\n",
       "可用额度比值       0.00000\n",
       "年龄           0.00000\n",
       "逾期30-59天笔数   0.00000\n",
       "负债率          0.00000\n",
       "月收入          0.19560\n",
       "信贷数量         0.00000\n",
       "逾期90天笔数      0.00000\n",
       "固定资产贷款量      0.00000\n",
       "逾期60-89天笔数   0.00000\n",
       "家属数量         0.02562\n",
       "dtype: float64"
      ]
     },
     "execution_count": 6,
     "metadata": {},
     "output_type": "execute_result"
    }
   ],
   "source": [
    "rawdata.drop_duplicates(inplace=True)    # 去重\n",
    "rawdata.index=range(rawdata.shape[0])    # 重置索引\n",
    "rawdata.shape\n",
    "# 查看缺失值情况\n",
    "rawdata.isnull().mean()"
   ]
  },
  {
   "cell_type": "code",
   "execution_count": 7,
   "metadata": {
    "scrolled": false
   },
   "outputs": [
    {
     "data": {
      "image/png": "[encoded data removed]",
      "text/plain": [
       "<Figure size 432x288 with 1 Axes>"
      ]
     },
     "metadata": {},
     "output_type": "display_data"
    },
    {
     "data": {
      "image/png": "[encoded data removed]",
      "text/plain": [
       "<Figure size 432x288 with 1 Axes>"
      ]
     },
     "metadata": {},
     "output_type": "display_data"
    }
   ],
   "source": [
    "null_list=['月收入','家属数量']\n",
    "for col in null_list:\n",
    "    plt.style.use('bmh')\n",
    "    plt.hist(rawdata[col].dropna().values)\n",
    "    plt.show()\n"
   ]
  },
  {
   "cell_type": "markdown",
   "metadata": {},
   "source": [
    "数据呈现正偏态。由于“家属数量”缺失较少，我们直接用中位数填充。"
   ]
  },
  {
   "cell_type": "code",
   "execution_count": 8,
   "metadata": {},
   "outputs": [],
   "source": [
    "rawdata['家属数量'].fillna(rawdata['家属数量'].median(),inplace=True)"
   ]
  },
  {
   "cell_type": "markdown",
   "metadata": {},
   "source": [
    "“月收入”这个特征对于征信来说非常重要，在这里采用随机森林填补法来填充，即将缺失的特征值作为预测值，将未缺失的“月收入”数据作为训练样本的标签。"
   ]
  },
  {
   "cell_type": "code",
   "execution_count": 9,
   "metadata": {},
   "outputs": [],
   "source": [
    "# 定义随机森林填补函数\n",
    "def fill_missing_rf(X,y,to_fill):\n",
    "    \"\"\"\n",
    "    使用随机森林填补一个特征的缺失值的函数\n",
    "    参数：\n",
    "    X：要填补的特征矩阵\n",
    "    y：完整的，没有缺失值的标签\n",
    "    to_fill：字符串，要填补的那一列的名称\n",
    "    \"\"\"\n",
    "    #构建我们的新特征矩阵和新标签\n",
    "    df = X.copy()\n",
    "    fill = df.loc[:,to_fill]\n",
    "    df = pd.concat([df.loc[:,df.columns != to_fill],pd.DataFrame(y)],axis=1)\n",
    "    \n",
    "    #找出我们的训练集和测试集\n",
    "    Ytrain = fill[fill.notnull()]\n",
    "    Ytest = fill[fill.isnull()]\n",
    "    Xtrain = df.iloc[Ytrain.index,:]\n",
    "    Xtest = df.iloc[Ytest.index,:]\n",
    "    \n",
    "    #用随机森林回归来填补缺失值\n",
    "    from sklearn.ensemble import RandomForestRegressor as rfr\n",
    "    rfr = rfr(n_estimators=100)\n",
    "    rfr = rfr.fit(Xtrain, Ytrain)\n",
    "    Ypredict = rfr.predict(Xtest)\n",
    "    \n",
    "    return Ypredict\n",
    "\n",
    "\n",
    "X = rawdata.iloc[:,1:]\n",
    "y = rawdata['好坏客户']\n",
    "\n",
    "y_pred = fill_missing_rf(X,y,'月收入')\n",
    "rawdata.loc[rawdata.loc[:,'月收入'].isnull(),'月收入'] = y_pred"
   ]
  },
  {
   "cell_type": "markdown",
   "metadata": {},
   "source": [
    "## 异常值处理"
   ]
  },
  {
   "cell_type": "code",
   "execution_count": 10,
   "metadata": {},
   "outputs": [
    {
     "data": {
      "text/plain": [
       "[Text(0,0,'信贷数量'), Text(0,0,'固定资产贷款量')]"
      ]
     },
     "execution_count": 10,
     "metadata": {},
     "output_type": "execute_result"
    },
    {
     "data": {
      "image/png": "[encoded data removed]",
      "text/plain": [
       "<Figure size 1440x1080 with 4 Axes>"
      ]
     },
     "metadata": {},
     "output_type": "display_data"
    }
   ],
   "source": [
    "x1=rawdata['可用额度比值']\n",
    "x2=rawdata['负债率']\n",
    "x3=rawdata['年龄']\n",
    "x4=rawdata['逾期30-59天笔数']\n",
    "x5=rawdata['逾期60-89天笔数']\n",
    "x6=rawdata['逾期90天笔数']\n",
    "x7=rawdata['信贷数量']\n",
    "x8=rawdata['固定资产贷款量']\n",
    "\n",
    "fig=plt.figure(figsize=(20,15))\n",
    "ax1=fig.add_subplot(221)\n",
    "ax2=fig.add_subplot(222)\n",
    "ax3=fig.add_subplot(223)\n",
    "ax4=fig.add_subplot(224)\n",
    "\n",
    "ax1.boxplot([x1,x2])\n",
    "ax1.set_xticklabels([\"可用额度比值\",\"负债率\"], fontsize=20)\n",
    "\n",
    "ax2.boxplot(x3)\n",
    "ax2.set_xticklabels(\"年龄\", fontsize=20)\n",
    "\n",
    "ax3.boxplot([x4,x5,x6])\n",
    "ax3.set_xticklabels([\"逾期30-59天笔数\",\"逾期60-89天笔数\",\"逾期90天笔数\"], fontsize=20)\n",
    "\n",
    "ax4.boxplot([x7,x8])\n",
    "ax4.set_xticklabels([\"信贷数量\",\"固定资产贷款量\"], fontsize=20)\n"
   ]
  },
  {
   "cell_type": "code",
   "execution_count": 11,
   "metadata": {},
   "outputs": [
    {
     "data": {
      "text/html": [
       "<div>\n",
       "<style scoped>\n",
       "    .dataframe tbody tr th:only-of-type {\n",
       "        vertical-align: middle;\n",
       "    }\n",
       "\n",
       "    .dataframe tbody tr th {\n",
       "        vertical-align: top;\n",
       "    }\n",
       "\n",
       "    .dataframe thead th {\n",
       "        text-align: right;\n",
       "    }\n",
       "</style>\n",
       "<table border=\"1\" class=\"dataframe\">\n",
       "  <thead>\n",
       "    <tr style=\"text-align: right;\">\n",
       "      <th></th>\n",
       "      <th>好坏客户</th>\n",
       "      <th>可用额度比值</th>\n",
       "      <th>年龄</th>\n",
       "      <th>逾期30-59天笔数</th>\n",
       "      <th>负债率</th>\n",
       "      <th>月收入</th>\n",
       "      <th>信贷数量</th>\n",
       "      <th>逾期90天笔数</th>\n",
       "      <th>固定资产贷款量</th>\n",
       "      <th>逾期60-89天笔数</th>\n",
       "      <th>家属数量</th>\n",
       "    </tr>\n",
       "  </thead>\n",
       "  <tbody>\n",
       "    <tr>\n",
       "      <th>65553</th>\n",
       "      <td>0</td>\n",
       "      <td>1.00000</td>\n",
       "      <td>0</td>\n",
       "      <td>1</td>\n",
       "      <td>0.43693</td>\n",
       "      <td>6000.00000</td>\n",
       "      <td>6</td>\n",
       "      <td>0</td>\n",
       "      <td>2</td>\n",
       "      <td>0</td>\n",
       "      <td>2.00000</td>\n",
       "    </tr>\n",
       "  </tbody>\n",
       "</table>\n",
       "</div>"
      ],
      "text/plain": [
       "       好坏客户  可用额度比值  年龄  逾期30-59天笔数     负债率        月收入  信贷数量  逾期90天笔数  \\\n",
       "65553     0 1.00000   0           1 0.43693 6000.00000     6        0   \n",
       "\n",
       "       固定资产贷款量  逾期60-89天笔数    家属数量  \n",
       "65553        2           0 2.00000  "
      ]
     },
     "execution_count": 11,
     "metadata": {},
     "output_type": "execute_result"
    }
   ],
   "source": [
    "rawdata[rawdata['年龄']<18]"
   ]
  },
  {
   "cell_type": "code",
   "execution_count": 12,
   "metadata": {},
   "outputs": [
    {
     "name": "stdout",
     "output_type": "stream",
     "text": [
      "(225, 11) (225, 11) (225, 11)\n"
     ]
    }
   ],
   "source": [
    "rawdata=rawdata[rawdata['年龄']!=0]\n",
    "print(\n",
    "rawdata[rawdata['逾期30-59天笔数']>90].shape,\n",
    "rawdata[rawdata['逾期60-89天笔数']>90].shape,\n",
    "rawdata[rawdata['逾期90天笔数']>90].shape)"
   ]
  },
  {
   "cell_type": "code",
   "execution_count": 13,
   "metadata": {},
   "outputs": [
    {
     "data": {
      "text/html": [
       "<div>\n",
       "<style scoped>\n",
       "    .dataframe tbody tr th:only-of-type {\n",
       "        vertical-align: middle;\n",
       "    }\n",
       "\n",
       "    .dataframe tbody tr th {\n",
       "        vertical-align: top;\n",
       "    }\n",
       "\n",
       "    .dataframe thead th {\n",
       "        text-align: right;\n",
       "    }\n",
       "</style>\n",
       "<table border=\"1\" class=\"dataframe\">\n",
       "  <thead>\n",
       "    <tr style=\"text-align: right;\">\n",
       "      <th></th>\n",
       "      <th>好坏客户</th>\n",
       "      <th>可用额度比值</th>\n",
       "      <th>年龄</th>\n",
       "      <th>逾期30-59天笔数</th>\n",
       "      <th>负债率</th>\n",
       "      <th>月收入</th>\n",
       "      <th>信贷数量</th>\n",
       "      <th>逾期90天笔数</th>\n",
       "      <th>固定资产贷款量</th>\n",
       "      <th>逾期60-89天笔数</th>\n",
       "      <th>家属数量</th>\n",
       "    </tr>\n",
       "  </thead>\n",
       "  <tbody>\n",
       "    <tr>\n",
       "      <th>1732</th>\n",
       "      <td>1</td>\n",
       "      <td>1.00000</td>\n",
       "      <td>27</td>\n",
       "      <td>98</td>\n",
       "      <td>0.00000</td>\n",
       "      <td>2700.00000</td>\n",
       "      <td>0</td>\n",
       "      <td>98</td>\n",
       "      <td>0</td>\n",
       "      <td>98</td>\n",
       "      <td>0.00000</td>\n",
       "    </tr>\n",
       "    <tr>\n",
       "      <th>2285</th>\n",
       "      <td>0</td>\n",
       "      <td>1.00000</td>\n",
       "      <td>22</td>\n",
       "      <td>98</td>\n",
       "      <td>0.00000</td>\n",
       "      <td>1423.79327</td>\n",
       "      <td>0</td>\n",
       "      <td>98</td>\n",
       "      <td>0</td>\n",
       "      <td>98</td>\n",
       "      <td>0.00000</td>\n",
       "    </tr>\n",
       "    <tr>\n",
       "      <th>3883</th>\n",
       "      <td>0</td>\n",
       "      <td>1.00000</td>\n",
       "      <td>38</td>\n",
       "      <td>98</td>\n",
       "      <td>12.00000</td>\n",
       "      <td>2430.15000</td>\n",
       "      <td>0</td>\n",
       "      <td>98</td>\n",
       "      <td>0</td>\n",
       "      <td>98</td>\n",
       "      <td>0.00000</td>\n",
       "    </tr>\n",
       "    <tr>\n",
       "      <th>4416</th>\n",
       "      <td>0</td>\n",
       "      <td>1.00000</td>\n",
       "      <td>21</td>\n",
       "      <td>98</td>\n",
       "      <td>0.00000</td>\n",
       "      <td>0.00000</td>\n",
       "      <td>0</td>\n",
       "      <td>98</td>\n",
       "      <td>0</td>\n",
       "      <td>98</td>\n",
       "      <td>0.00000</td>\n",
       "    </tr>\n",
       "    <tr>\n",
       "      <th>4704</th>\n",
       "      <td>0</td>\n",
       "      <td>1.00000</td>\n",
       "      <td>21</td>\n",
       "      <td>98</td>\n",
       "      <td>0.00000</td>\n",
       "      <td>2000.00000</td>\n",
       "      <td>0</td>\n",
       "      <td>98</td>\n",
       "      <td>0</td>\n",
       "      <td>98</td>\n",
       "      <td>0.00000</td>\n",
       "    </tr>\n",
       "    <tr>\n",
       "      <th>5072</th>\n",
       "      <td>0</td>\n",
       "      <td>1.00000</td>\n",
       "      <td>33</td>\n",
       "      <td>98</td>\n",
       "      <td>0.00000</td>\n",
       "      <td>1500.00000</td>\n",
       "      <td>0</td>\n",
       "      <td>98</td>\n",
       "      <td>0</td>\n",
       "      <td>98</td>\n",
       "      <td>0.00000</td>\n",
       "    </tr>\n",
       "    <tr>\n",
       "      <th>6279</th>\n",
       "      <td>1</td>\n",
       "      <td>1.00000</td>\n",
       "      <td>51</td>\n",
       "      <td>98</td>\n",
       "      <td>0.00000</td>\n",
       "      <td>7500.00000</td>\n",
       "      <td>0</td>\n",
       "      <td>98</td>\n",
       "      <td>0</td>\n",
       "      <td>98</td>\n",
       "      <td>0.00000</td>\n",
       "    </tr>\n",
       "    <tr>\n",
       "      <th>...</th>\n",
       "      <td>...</td>\n",
       "      <td>...</td>\n",
       "      <td>...</td>\n",
       "      <td>...</td>\n",
       "      <td>...</td>\n",
       "      <td>...</td>\n",
       "      <td>...</td>\n",
       "      <td>...</td>\n",
       "      <td>...</td>\n",
       "      <td>...</td>\n",
       "      <td>...</td>\n",
       "    </tr>\n",
       "    <tr>\n",
       "      <th>145669</th>\n",
       "      <td>1</td>\n",
       "      <td>1.00000</td>\n",
       "      <td>28</td>\n",
       "      <td>98</td>\n",
       "      <td>0.00000</td>\n",
       "      <td>1664.00000</td>\n",
       "      <td>0</td>\n",
       "      <td>98</td>\n",
       "      <td>0</td>\n",
       "      <td>98</td>\n",
       "      <td>0.00000</td>\n",
       "    </tr>\n",
       "    <tr>\n",
       "      <th>146538</th>\n",
       "      <td>1</td>\n",
       "      <td>1.00000</td>\n",
       "      <td>37</td>\n",
       "      <td>98</td>\n",
       "      <td>0.00758</td>\n",
       "      <td>3166.00000</td>\n",
       "      <td>0</td>\n",
       "      <td>98</td>\n",
       "      <td>0</td>\n",
       "      <td>98</td>\n",
       "      <td>0.00000</td>\n",
       "    </tr>\n",
       "    <tr>\n",
       "      <th>146667</th>\n",
       "      <td>1</td>\n",
       "      <td>1.00000</td>\n",
       "      <td>25</td>\n",
       "      <td>98</td>\n",
       "      <td>0.00000</td>\n",
       "      <td>2094.57393</td>\n",
       "      <td>0</td>\n",
       "      <td>98</td>\n",
       "      <td>0</td>\n",
       "      <td>98</td>\n",
       "      <td>0.00000</td>\n",
       "    </tr>\n",
       "    <tr>\n",
       "      <th>147180</th>\n",
       "      <td>1</td>\n",
       "      <td>1.00000</td>\n",
       "      <td>68</td>\n",
       "      <td>98</td>\n",
       "      <td>255.00000</td>\n",
       "      <td>16.21000</td>\n",
       "      <td>0</td>\n",
       "      <td>98</td>\n",
       "      <td>0</td>\n",
       "      <td>98</td>\n",
       "      <td>0.00000</td>\n",
       "    </tr>\n",
       "    <tr>\n",
       "      <th>148548</th>\n",
       "      <td>1</td>\n",
       "      <td>1.00000</td>\n",
       "      <td>24</td>\n",
       "      <td>98</td>\n",
       "      <td>54.00000</td>\n",
       "      <td>606.32000</td>\n",
       "      <td>0</td>\n",
       "      <td>98</td>\n",
       "      <td>0</td>\n",
       "      <td>98</td>\n",
       "      <td>0.00000</td>\n",
       "    </tr>\n",
       "    <tr>\n",
       "      <th>148634</th>\n",
       "      <td>0</td>\n",
       "      <td>1.00000</td>\n",
       "      <td>26</td>\n",
       "      <td>98</td>\n",
       "      <td>0.00000</td>\n",
       "      <td>2000.00000</td>\n",
       "      <td>0</td>\n",
       "      <td>98</td>\n",
       "      <td>0</td>\n",
       "      <td>98</td>\n",
       "      <td>0.00000</td>\n",
       "    </tr>\n",
       "    <tr>\n",
       "      <th>148833</th>\n",
       "      <td>1</td>\n",
       "      <td>1.00000</td>\n",
       "      <td>34</td>\n",
       "      <td>98</td>\n",
       "      <td>9.00000</td>\n",
       "      <td>2393.74000</td>\n",
       "      <td>0</td>\n",
       "      <td>98</td>\n",
       "      <td>0</td>\n",
       "      <td>98</td>\n",
       "      <td>0.00000</td>\n",
       "    </tr>\n",
       "  </tbody>\n",
       "</table>\n",
       "<p>225 rows × 11 columns</p>\n",
       "</div>"
      ],
      "text/plain": [
       "        好坏客户  可用额度比值  年龄  逾期30-59天笔数       负债率        月收入  信贷数量  逾期90天笔数  \\\n",
       "1732       1 1.00000  27          98   0.00000 2700.00000     0       98   \n",
       "2285       0 1.00000  22          98   0.00000 1423.79327     0       98   \n",
       "3883       0 1.00000  38          98  12.00000 2430.15000     0       98   \n",
       "4416       0 1.00000  21          98   0.00000    0.00000     0       98   \n",
       "4704       0 1.00000  21          98   0.00000 2000.00000     0       98   \n",
       "5072       0 1.00000  33          98   0.00000 1500.00000     0       98   \n",
       "6279       1 1.00000  51          98   0.00000 7500.00000     0       98   \n",
       "...      ...     ...  ..         ...       ...        ...   ...      ...   \n",
       "145669     1 1.00000  28          98   0.00000 1664.00000     0       98   \n",
       "146538     1 1.00000  37          98   0.00758 3166.00000     0       98   \n",
       "146667     1 1.00000  25          98   0.00000 2094.57393     0       98   \n",
       "147180     1 1.00000  68          98 255.00000   16.21000     0       98   \n",
       "148548     1 1.00000  24          98  54.00000  606.32000     0       98   \n",
       "148634     0 1.00000  26          98   0.00000 2000.00000     0       98   \n",
       "148833     1 1.00000  34          98   9.00000 2393.74000     0       98   \n",
       "\n",
       "        固定资产贷款量  逾期60-89天笔数    家属数量  \n",
       "1732          0          98 0.00000  \n",
       "2285          0          98 0.00000  \n",
       "3883          0          98 0.00000  \n",
       "4416          0          98 0.00000  \n",
       "4704          0          98 0.00000  \n",
       "5072          0          98 0.00000  \n",
       "6279          0          98 0.00000  \n",
       "...         ...         ...     ...  \n",
       "145669        0          98 0.00000  \n",
       "146538        0          98 0.00000  \n",
       "146667        0          98 0.00000  \n",
       "147180        0          98 0.00000  \n",
       "148548        0          98 0.00000  \n",
       "148634        0          98 0.00000  \n",
       "148833        0          98 0.00000  \n",
       "\n",
       "[225 rows x 11 columns]"
      ]
     },
     "execution_count": 13,
     "metadata": {},
     "output_type": "execute_result"
    }
   ],
   "source": [
    "rawdata[rawdata.loc[:,'逾期30-59天笔数']>90]"
   ]
  },
  {
   "cell_type": "code",
   "execution_count": 14,
   "metadata": {},
   "outputs": [],
   "source": [
    "# 删除异常数据\n",
    "rawdata=rawdata[rawdata.loc[:,'逾期30-59天笔数']<90]"
   ]
  },
  {
   "cell_type": "markdown",
   "metadata": {},
   "source": [
    "## 处理样本不平衡"
   ]
  },
  {
   "cell_type": "markdown",
   "metadata": {},
   "source": [
    "我们在之前查看过标签分布情况，0:1=139974:10026，是存在严重的样本不平衡的。这是在金融风控中非常常见的，因为会存在严重违约的用户毕竟是少数。\n",
    "在这里我们采取SMOTE上采样的方法处理数据不平衡。需要导入另一个机器学习库imblearn。\n"
   ]
  },
  {
   "cell_type": "code",
   "execution_count": 15,
   "metadata": {},
   "outputs": [],
   "source": [
    "\n",
    "smote=SMOTE(random_state=404)\n",
    "X,y=smote.fit_sample(rawdata.iloc[:,1:],rawdata.iloc[:,0])"
   ]
  },
  {
   "cell_type": "code",
   "execution_count": 16,
   "metadata": {},
   "outputs": [],
   "source": [
    "data=pd.concat((pd.DataFrame(y),X),axis=1)"
   ]
  },
  {
   "cell_type": "markdown",
   "metadata": {},
   "source": [
    "## 分箱"
   ]
  },
  {
   "cell_type": "markdown",
   "metadata": {},
   "source": [
    "常用的分箱方法主要有三种：等频分箱、等宽分箱、CART树分箱。我们选择最优的CART树分箱方法，将分箱的函数都写在一个cart_bins.py的类文件里，下面贴出了最重要的一个自动分箱函数"
   ]
  },
  {
   "cell_type": "code",
   "execution_count": 17,
   "metadata": {},
   "outputs": [],
   "source": [
    "def auto_bins(df,y,x,p=0.01,max_bin=20,plot=True):\n",
    "    \"\"\"\n",
    "    参数\n",
    "    df:传入需要进行分箱的数据集\n",
    "    y:标签名\n",
    "    x:进行分箱的特征名\n",
    "    p:叶子包含观测数的最小占比(0<p<0.5)，默认为0.01\n",
    "    max_bin:最大箱子数(大于2)，默认为20\n",
    "    plot:是否画WOE图\n",
    "    \"\"\"\n",
    "    from sklearn.tree import DecisionTreeClassifier\n",
    "    from sklearn.model_selection import GridSearchCV\n",
    "    import numpy as np\n",
    "    import pandas as pd\n",
    "    \n",
    "    # 指明X和Y变量数据,排除NA值\n",
    "    X = np.array(df[x][df[x].notna()]).reshape(-1,1)\n",
    "    Y = df[y][df[x].notna()]\n",
    "   \n",
    "    # 调参,得到最合适的叶节点观测占比\n",
    "    gini_impure = np.linspace(0,0.001,50)\n",
    "    param_grid = {\"min_impurity_decrease\":gini_impure}\n",
    "    Es = GridSearchCV(DecisionTreeClassifier(),param_grid,cv=5,iid=False)\n",
    "    Es.fit(X,Y)\n",
    "    \n",
    "    # 使用最优参数构建树模型\n",
    "    ES = DecisionTreeClassifier(min_impurity_decrease = Es.best_params_[\"min_impurity_decrease\"],\n",
    "                                max_leaf_nodes = max_bin,\n",
    "                                min_samples_leaf = p)    \n",
    "    ES.fit(X,Y)\n",
    "    \n",
    "    # 输出树结构\n",
    "    TS = tree_structure(ES,x)\n",
    "    \n",
    "    # 抽取测试节点的阈值\n",
    "    TH = ES.tree_.threshold[ES.tree_.children_left != ES.tree_.children_right]\n",
    "    # 计算最优分割点\n",
    "    CP = np.append(TH,np.array([X.max(),X.min()]))\n",
    "    CP.sort()\n",
    "    \n",
    "    # 使用自定义分箱函数\n",
    "    smbin_cust = smbin_cu(df,y,x,cutpoints = CP,plot = plot)    \n",
    "    \n",
    "    out_a = pd.Series({\"Tree_structure\":TS})\n",
    "    \n",
    "    out = smbin_cust.append(out_a)\n",
    "\n",
    "    return(out)\n",
    "\n",
    "#cut1 = auto_bins(data,'好坏客户','可用额度比值')"
   ]
  },
  {
   "cell_type": "markdown",
   "metadata": {},
   "source": [
    "##  LR 建模"
   ]
  },
  {
   "cell_type": "markdown",
   "metadata": {},
   "source": [
    "金融风控中最常用的模型是逻辑回归模型，虽然现在很多企业开始使用性能更好的GBDT、XGBoost，甚至更加改进的Light GBM进行建模，但LR有着它自己独特的优势：\n",
    "\n",
    "1、逻辑回归经过信贷历史的反复验证是有效的\n",
    "\n",
    "2、模型比较稳定相对成熟\n",
    "\n",
    "3、建模过程透明而不是黑箱\n",
    "\n",
    "4、不太容易过拟合\n",
    "\n",
    "本案例选择LR逻辑回归进行建模。\n",
    "首先切分训练集和测试集。\n"
   ]
  },
  {
   "cell_type": "code",
   "execution_count": 18,
   "metadata": {},
   "outputs": [],
   "source": [
    "from sklearn.model_selection import train_test_split\n",
    "X,y=rawdata.iloc[:,1:],rawdata.iloc[:,0]\n",
    "X_train,X_test,Y_train,Y_test = train_test_split(X,y,test_size=0.3,random_state=1221)"
   ]
  },
  {
   "cell_type": "code",
   "execution_count": 19,
   "metadata": {},
   "outputs": [
    {
     "data": {
      "text/html": [
       "<table class=\"simpletable\">\n",
       "<caption>Generalized Linear Model Regression Results</caption>\n",
       "<tr>\n",
       "  <th>Dep. Variable:</th>        <td>好坏客户</td>       <th>  No. Observations:  </th>  <td>104415</td>  \n",
       "</tr>\n",
       "<tr>\n",
       "  <th>Model:</th>                 <td>GLM</td>       <th>  Df Residuals:      </th>  <td>104405</td>  \n",
       "</tr>\n",
       "<tr>\n",
       "  <th>Model Family:</th>       <td>Binomial</td>     <th>  Df Model:          </th>  <td>     9</td>  \n",
       "</tr>\n",
       "<tr>\n",
       "  <th>Link Function:</th>        <td>logit</td>      <th>  Scale:             </th> <td>  1.0000</td> \n",
       "</tr>\n",
       "<tr>\n",
       "  <th>Method:</th>               <td>IRLS</td>       <th>  Log-Likelihood:    </th> <td> -21235.</td> \n",
       "</tr>\n",
       "<tr>\n",
       "  <th>Date:</th>           <td>Fri, 06 Mar 2020</td> <th>  Deviance:          </th> <td>  42471.</td> \n",
       "</tr>\n",
       "<tr>\n",
       "  <th>Time:</th>               <td>14:34:36</td>     <th>  Pearson chi2:      </th> <td>5.47e+05</td> \n",
       "</tr>\n",
       "<tr>\n",
       "  <th>No. Iterations:</th>         <td>7</td>        <th>  Covariance Type:   </th> <td>nonrobust</td>\n",
       "</tr>\n",
       "</table>\n",
       "<table class=\"simpletable\">\n",
       "<tr>\n",
       "       <td></td>         <th>coef</th>     <th>std err</th>      <th>z</th>      <th>P>|z|</th>  <th>[0.025</th>    <th>0.975]</th>  \n",
       "</tr>\n",
       "<tr>\n",
       "  <th>可用额度比值</th>     <td>   -0.0001</td> <td>  9.9e-05</td> <td>   -1.038</td> <td> 0.299</td> <td>   -0.000</td> <td> 9.13e-05</td>\n",
       "</tr>\n",
       "<tr>\n",
       "  <th>年龄</th>         <td>   -0.0599</td> <td>    0.001</td> <td>  -90.112</td> <td> 0.000</td> <td>   -0.061</td> <td>   -0.059</td>\n",
       "</tr>\n",
       "<tr>\n",
       "  <th>逾期30-59天笔数</th> <td>    0.5677</td> <td>    0.014</td> <td>   41.951</td> <td> 0.000</td> <td>    0.541</td> <td>    0.594</td>\n",
       "</tr>\n",
       "<tr>\n",
       "  <th>负债率</th>        <td>-7.349e-05</td> <td> 1.57e-05</td> <td>   -4.685</td> <td> 0.000</td> <td>   -0.000</td> <td>-4.27e-05</td>\n",
       "</tr>\n",
       "<tr>\n",
       "  <th>月收入</th>        <td> -3.58e-05</td> <td> 3.88e-06</td> <td>   -9.223</td> <td> 0.000</td> <td>-4.34e-05</td> <td>-2.82e-05</td>\n",
       "</tr>\n",
       "<tr>\n",
       "  <th>信贷数量</th>       <td>   -0.0213</td> <td>    0.003</td> <td>   -6.338</td> <td> 0.000</td> <td>   -0.028</td> <td>   -0.015</td>\n",
       "</tr>\n",
       "<tr>\n",
       "  <th>逾期90天笔数</th>    <td>    0.7786</td> <td>    0.020</td> <td>   39.057</td> <td> 0.000</td> <td>    0.740</td> <td>    0.818</td>\n",
       "</tr>\n",
       "<tr>\n",
       "  <th>固定资产贷款量</th>    <td>    0.1478</td> <td>    0.013</td> <td>   11.112</td> <td> 0.000</td> <td>    0.122</td> <td>    0.174</td>\n",
       "</tr>\n",
       "<tr>\n",
       "  <th>逾期60-89天笔数</th> <td>    0.6963</td> <td>    0.028</td> <td>   25.209</td> <td> 0.000</td> <td>    0.642</td> <td>    0.750</td>\n",
       "</tr>\n",
       "<tr>\n",
       "  <th>家属数量</th>       <td>   -0.0235</td> <td>    0.012</td> <td>   -2.002</td> <td> 0.045</td> <td>   -0.046</td> <td>   -0.000</td>\n",
       "</tr>\n",
       "</table>"
      ],
      "text/plain": [
       "<class 'statsmodels.iolib.summary.Summary'>\n",
       "\"\"\"\n",
       "                 Generalized Linear Model Regression Results                  \n",
       "==============================================================================\n",
       "Dep. Variable:                   好坏客户   No. Observations:               104415\n",
       "Model:                            GLM   Df Residuals:                   104405\n",
       "Model Family:                Binomial   Df Model:                            9\n",
       "Link Function:                  logit   Scale:                          1.0000\n",
       "Method:                          IRLS   Log-Likelihood:                -21235.\n",
       "Date:                Fri, 06 Mar 2020   Deviance:                       42471.\n",
       "Time:                        14:34:36   Pearson chi2:                 5.47e+05\n",
       "No. Iterations:                     7   Covariance Type:             nonrobust\n",
       "==============================================================================\n",
       "                 coef    std err          z      P>|z|      [0.025      0.975]\n",
       "------------------------------------------------------------------------------\n",
       "可用额度比值        -0.0001    9.9e-05     -1.038      0.299      -0.000    9.13e-05\n",
       "年龄            -0.0599      0.001    -90.112      0.000      -0.061      -0.059\n",
       "逾期30-59天笔数     0.5677      0.014     41.951      0.000       0.541       0.594\n",
       "负债率        -7.349e-05   1.57e-05     -4.685      0.000      -0.000   -4.27e-05\n",
       "月收入         -3.58e-05   3.88e-06     -9.223      0.000   -4.34e-05   -2.82e-05\n",
       "信贷数量          -0.0213      0.003     -6.338      0.000      -0.028      -0.015\n",
       "逾期90天笔数        0.7786      0.020     39.057      0.000       0.740       0.818\n",
       "固定资产贷款量        0.1478      0.013     11.112      0.000       0.122       0.174\n",
       "逾期60-89天笔数     0.6963      0.028     25.209      0.000       0.642       0.750\n",
       "家属数量          -0.0235      0.012     -2.002      0.045      -0.046      -0.000\n",
       "==============================================================================\n",
       "\"\"\""
      ]
     },
     "execution_count": 19,
     "metadata": {},
     "output_type": "execute_result"
    }
   ],
   "source": [
    "import statsmodels.api as sm\n",
    "from statsmodels.stats.outliers_influence import variance_inflation_factor\n",
    "import scipy.stats as stats\n",
    "\n",
    "glmodel = sm.GLM(Y_train,X_train,family=sm.families.Binomial()).fit()\n",
    "glmodel.summary()"
   ]
  },
  {
   "cell_type": "code",
   "execution_count": 20,
   "metadata": {},
   "outputs": [
    {
     "name": "stderr",
     "output_type": "stream",
     "text": [
      "/usr/local/lib/python3.5/dist-packages/sklearn/utils/deprecation.py:144: FutureWarning: The sklearn.linear_model.logistic module is  deprecated in version 0.22 and will be removed in version 0.24. The corresponding classes / functions should instead be imported from sklearn.linear_model. Anything that cannot be imported from sklearn.linear_model is now part of the private API.\n",
      "  warnings.warn(message, FutureWarning)\n"
     ]
    }
   ],
   "source": [
    "from sklearn.metrics import confusion_matrix\n",
    "from sklearn.linear_model.logistic import LogisticRegression  \n",
    "\n",
    "#按照80%的比例，把两个数据集又分为训练集和测试集（X_1,Y_1是训练集，X_2, Y_2是测试集）\n",
    "X_1, X_2, Y_1, Y_2 = train_test_split(X, y, test_size=0.2, random_state=0)"
   ]
  },
  {
   "cell_type": "markdown",
   "metadata": {},
   "source": [
    "##  LR"
   ]
  },
  {
   "cell_type": "code",
   "execution_count": 71,
   "metadata": {},
   "outputs": [
    {
     "data": {
      "text/plain": [
       "array([0.03030531, 0.03314995, 0.02180207, ..., 0.01289152, 0.02945417,\n",
       "       0.0414216 ])"
      ]
     },
     "execution_count": 71,
     "metadata": {},
     "output_type": "execute_result"
    }
   ],
   "source": [
    "Y_pred"
   ]
  },
  {
   "cell_type": "code",
   "execution_count": 72,
   "metadata": {},
   "outputs": [
    {
     "name": "stdout",
     "output_type": "stream",
     "text": [
      "accuracy: 0.9371836556833038\n",
      "[[27677  1681]\n",
      " [  193   282]]\n"
     ]
    },
    {
     "data": {
      "text/plain": [
       "[<matplotlib.lines.Line2D at 0x7f4431a84f60>]"
      ]
     },
     "execution_count": 72,
     "metadata": {},
     "output_type": "execute_result"
    },
    {
     "data": {
      "image/png": "[encoded data removed]",
      "text/plain": [
       "<Figure size 432x288 with 1 Axes>"
      ]
     },
     "metadata": {},
     "output_type": "display_data"
    }
   ],
   "source": [
    "logic_clf = LogisticRegression(C=0.1, class_weight=None, dual=False, fit_intercept=True,\n",
    "          intercept_scaling=1, max_iter=100, multi_class='ovr', n_jobs=1,\n",
    "          penalty='l2', random_state=None, solver='liblinear', tol=0.0001,\n",
    "          verbose=0, warm_start=False)\n",
    "  #生成一个逻辑回归模型\n",
    "logic_clf.fit(X_1,Y_1)\n",
    "predictions = logic_clf.predict(X_2) \n",
    "#用模型对X_2进行测试，即判断X_2里面每个记录的违约情况，并把结果储存在predictions中\n",
    "Y_pred = logic_clf.predict_proba(X_2)[:, 1]\n",
    "matrix = confusion_matrix(predictions, Y_2) #显示混淆矩阵\n",
    "score = logic_clf.score(X_2, Y_2) # 用模型对X_2进行测试，并与Y_2比较，获得准确率\n",
    "print(\"accuracy:\",score)\n",
    "print(matrix)  \n",
    "fpr_lr, tpr_lr, _ = roc_curve(Y_2,Y_pred)\n",
    "plt.figure(1)\n",
    "plt.plot([0, 1], [0, 1], 'k--')\n",
    "plt.plot(fpr_lr, tpr_lr, label='LR')\n"
   ]
  },
  {
   "cell_type": "code",
   "execution_count": 73,
   "metadata": {},
   "outputs": [
    {
     "data": {
      "text/plain": [
       "array([[0.97322972, 0.02677028],\n",
       "       [0.96071522, 0.03928478],\n",
       "       [0.94887267, 0.05112733],\n",
       "       ...,\n",
       "       [0.9113337 , 0.0886663 ],\n",
       "       [0.94755895, 0.05244105],\n",
       "       [0.92670774, 0.07329226]])"
      ]
     },
     "execution_count": 73,
     "metadata": {},
     "output_type": "execute_result"
    }
   ],
   "source": []
  },
  {
   "cell_type": "markdown",
   "metadata": {},
   "source": [
    "## Native Bayies"
   ]
  },
  {
   "cell_type": "code",
   "execution_count": 64,
   "metadata": {},
   "outputs": [
    {
     "name": "stdout",
     "output_type": "stream",
     "text": [
      "accuracy: 0.9253511212415781\n",
      "[[26920  1277]\n",
      " [  950   686]]\n"
     ]
    },
    {
     "data": {
      "text/plain": [
       "[<matplotlib.lines.Line2D at 0x7f4431b89b38>]"
      ]
     },
     "execution_count": 64,
     "metadata": {},
     "output_type": "execute_result"
    },
    {
     "data": {
      "image/png": "[encoded data removed]",
      "text/plain": [
       "<Figure size 432x288 with 1 Axes>"
      ]
     },
     "metadata": {},
     "output_type": "display_data"
    }
   ],
   "source": [
    "#换一个朴素贝叶斯 高斯模型来预测\n",
    "from sklearn.naive_bayes import GaussianNB\n",
    "gnb_clf = GaussianNB()  \n",
    "gnb_clf.fit(X_1,Y_1)\n",
    "\n",
    "gnb_prediction = gnb_clf.predict(X_2)\n",
    "gnb_matrix = confusion_matrix(gnb_prediction, Y_2)\n",
    "gnb_score = gnb_clf.score(X_2, Y_2)\n",
    "print(\"accuracy:\",gnb_score)\n",
    "print( gnb_matrix)\n",
    "fpr_NB, tpr_NB, _ = roc_curve(Y_2,gnb_prediction)\n",
    "plt.figure(1)\n",
    "plt.plot([0, 1], [0, 1], 'k--')\n",
    "plt.plot(fpr_NB, tpr_NB, label='NB')"
   ]
  },
  {
   "cell_type": "markdown",
   "metadata": {},
   "source": [
    "## GBDT+LR"
   ]
  },
  {
   "cell_type": "code",
   "execution_count": 23,
   "metadata": {},
   "outputs": [],
   "source": [
    "############ GBDT+LR\n",
    "from sklearn.preprocessing import OneHotEncoder\n",
    "from sklearn.ensemble import GradientBoostingClassifier\n",
    "gbm1 = GradientBoostingClassifier(n_estimators=5, random_state=10, subsample=0.6, max_depth=5,\n",
    "                                  min_samples_split=900)\n",
    "gbm1.fit(X_1, Y_1)\n",
    "train_new_feature = gbm1.apply(X_1)\n",
    "train_new_feature = train_new_feature.reshape(-1, 5)\n",
    "enc = OneHotEncoder()\n",
    "\n",
    "enc.fit(train_new_feature)\n",
    "\n",
    "# 每一个属性的最大取值数目\n",
    "# print('每一个特征的最大取值数目:', enc.n_values_)\n",
    "# print('所有特征的取值数目总和:', enc.n_values_.sum())\n",
    "\n",
    "train_new_feature2 = np.array(enc.transform(train_new_feature).toarray())\n",
    "\n",
    "test_new_feature = gbm1.apply(X_2)\n",
    "test_new_feature = test_new_feature.reshape(-1, 5)\n",
    "\n",
    "\n",
    "test_new_feature2 = np.array(enc.transform(test_new_feature).toarray())"
   ]
  },
  {
   "cell_type": "code",
   "execution_count": 24,
   "metadata": {},
   "outputs": [
    {
     "name": "stdout",
     "output_type": "stream",
     "text": [
      "accuracy: 0.9370830959005129\n"
     ]
    },
    {
     "data": {
      "text/plain": [
       "array([[27631,  1638],\n",
       "       [  239,   325]])"
      ]
     },
     "execution_count": 24,
     "metadata": {},
     "output_type": "execute_result"
    }
   ],
   "source": [
    "logic_clf = LogisticRegression(C=1.0, class_weight=None, dual=False, fit_intercept=True,\n",
    "          intercept_scaling=1, max_iter=100, multi_class='ovr', n_jobs=1,\n",
    "          penalty='l2', random_state=None, solver='liblinear', tol=0.0001,\n",
    "          verbose=0, warm_start=False)\n",
    "  #生成一个逻辑回归模型\n",
    "X_1.index=range(0,len(X_1))\n",
    "X_train=pd.concat((X_1,pd.DataFrame(train_new_feature2)),axis=1)\n",
    "logic_clf.fit(X_train,Y_1)\n",
    "X_2.index=range(0,len(X_2))\n",
    "X_test=  pd.concat((X_2,pd.DataFrame(test_new_feature2)),axis=1)  \n",
    "\n",
    "\n",
    "predictions = logic_clf.predict(X_test) \n",
    "matrix = confusion_matrix(predictions, Y_2) #显示混淆矩阵\n",
    "score = logic_clf.score(X_test, Y_2) # 用模型对X_2进行测试，并与Y_2比较，获得准确率\n",
    "print(\"accuracy:\",score)\n",
    "matrix  "
   ]
  },
  {
   "cell_type": "markdown",
   "metadata": {},
   "source": [
    "## LGB +LR"
   ]
  },
  {
   "cell_type": "code",
   "execution_count": 25,
   "metadata": {},
   "outputs": [
    {
     "name": "stdout",
     "output_type": "stream",
     "text": [
      "Start training...\n",
      "[1]\ttraining's binary_logloss: 0.241961\n"
     ]
    },
    {
     "name": "stderr",
     "output_type": "stream",
     "text": [
      "/usr/local/lib/python3.5/dist-packages/lightgbm/engine.py:148: UserWarning: Found `num_trees` in params. Will use it instead of argument\n",
      "  warnings.warn(\"Found `{}` in params. Will use it instead of argument\".format(alias))\n"
     ]
    },
    {
     "name": "stdout",
     "output_type": "stream",
     "text": [
      "[2]\ttraining's binary_logloss: 0.240125\n",
      "[3]\ttraining's binary_logloss: 0.238401\n",
      "[4]\ttraining's binary_logloss: 0.236845\n",
      "[5]\ttraining's binary_logloss: 0.235299\n",
      "[6]\ttraining's binary_logloss: 0.23388\n",
      "[7]\ttraining's binary_logloss: 0.232655\n",
      "[8]\ttraining's binary_logloss: 0.231311\n",
      "[9]\ttraining's binary_logloss: 0.23006\n",
      "[10]\ttraining's binary_logloss: 0.228829\n",
      "[11]\ttraining's binary_logloss: 0.227651\n",
      "[12]\ttraining's binary_logloss: 0.226647\n",
      "[13]\ttraining's binary_logloss: 0.22563\n",
      "[14]\ttraining's binary_logloss: 0.224693\n",
      "[15]\ttraining's binary_logloss: 0.223663\n",
      "[16]\ttraining's binary_logloss: 0.222698\n",
      "[17]\ttraining's binary_logloss: 0.221742\n",
      "[18]\ttraining's binary_logloss: 0.220821\n",
      "[19]\ttraining's binary_logloss: 0.219927\n",
      "[20]\ttraining's binary_logloss: 0.219081\n",
      "Start predicting...\n",
      "(119332, 20)\n",
      "Writing transformed training data\n",
      "Writing transformed testing data\n"
     ]
    },
    {
     "name": "stderr",
     "output_type": "stream",
     "text": [
      "/usr/local/lib/python3.5/dist-packages/sklearn/linear_model/_logistic.py:940: ConvergenceWarning: lbfgs failed to converge (status=1):\n",
      "STOP: TOTAL NO. of ITERATIONS REACHED LIMIT.\n",
      "\n",
      "Increase the number of iterations (max_iter) or scale the data as shown in:\n",
      "    https://scikit-learn.org/stable/modules/preprocessing.html\n",
      "Please also refer to the documentation for alternative solver options:\n",
      "    https://scikit-learn.org/stable/modules/linear_model.html#logistic-regression\n",
      "  extra_warning_msg=_LOGISTIC_SOLVER_CONVERGENCE_MSG)\n"
     ]
    },
    {
     "name": "stdout",
     "output_type": "stream",
     "text": [
      "accuracy: 0.9370830959005129\n"
     ]
    },
    {
     "data": {
      "text/plain": [
       "array([[27607,  1620],\n",
       "       [  263,   343]])"
      ]
     },
     "execution_count": 25,
     "metadata": {},
     "output_type": "execute_result"
    }
   ],
   "source": [
    "import lightgbm as lgb\n",
    "\n",
    "X_1.columns=X_2.columns=range(0,X_2.shape[1])\n",
    "lgb_train = lgb.Dataset(X_1, Y_1)\n",
    "lgb_eval = lgb.Dataset(X_1, Y_2, reference=lgb_train)\n",
    "\n",
    "params = {\n",
    "    'task': 'train',\n",
    "    'boosting_type': 'gbdt',\n",
    "    'objective': 'binary',\n",
    "    'metric': {'binary_logloss'},\n",
    "    'num_leaves': 20,\n",
    "    'num_trees': 20,\n",
    "    'learning_rate': 0.01,\n",
    "    'feature_fraction': 0.9,\n",
    "    'bagging_fraction': 0.8,\n",
    "    'bagging_freq': 5,\n",
    "    'verbose': 0\n",
    "}\n",
    "\n",
    "# number of leaves,will be used in feature transformation\n",
    "num_leaf = 20\n",
    "\n",
    "print('Start training...')\n",
    "# train\n",
    "gbm = lgb.train(params,\n",
    "                lgb_train,\n",
    "                num_boost_round=100,\n",
    "                valid_sets=lgb_train)\n",
    "\n",
    "#print('Save model...')\n",
    "# save model to file\n",
    "#gbm.save_model('model.txt')\n",
    "\n",
    "print('Start predicting...')\n",
    "# predict and get data on leaves, training data\n",
    "\n",
    "# 特征转换\n",
    "\n",
    "# 在训练得到100棵树之后，我们需要得到的不是GBDT的预测结果，而是每一条训练数据落\n",
    "#在了每棵树的哪个叶子结点上，因此需要使用下面的语句：\n",
    "\n",
    "\n",
    "y_pred = gbm.predict(X_1, pred_leaf=True)# 8001*100 查看每个样本落在每棵树的第几个叶子上\n",
    "\n",
    "print(np.array(y_pred).shape)\n",
    "#print(y_pred[:10])\n",
    "\n",
    "\n",
    "#然后我们需要将每棵树的特征进行one-hot处理，如前面所说，假设第一棵树落在43号叶子结点上，\n",
    "#那我们需要建立一个64维的向量，除43维之外全部都是0。\n",
    "#因此用于LR训练的特征维数共num_trees * num_leaves。\n",
    "print('Writing transformed training data')\n",
    "transformed_training_matrix = np.zeros([len(y_pred), len(y_pred[0]) * num_leaf],\n",
    "                                       dtype=np.int64)  # N * num_tress * num_leafs   8001*(100*64) 对每棵树的特征进行onehot处理,所以在y_pred的基础上每一列扩展成64列(每棵树有64个叶子)\n",
    "for i in range(0, len(y_pred)):\n",
    "    temp = np.arange(len(y_pred[0])) * num_leaf + np.array(y_pred[i])#计算onehot在100*64列当中的位置 arange(100)*64 + y_pred[i]\n",
    "    transformed_training_matrix[i][temp] += 1\n",
    "\n",
    "# 对于测试集也要进行同样的处理\n",
    "y_pred = gbm.predict(X_2, pred_leaf=True)\n",
    "print('Writing transformed testing data')\n",
    "transformed_testing_matrix = np.zeros([len(y_pred), len(y_pred[0]) * num_leaf], dtype=np.int64)\n",
    "for i in range(0, len(y_pred)):\n",
    "    temp = np.arange(len(y_pred[0])) * num_leaf + np.array(y_pred[i])\n",
    "    transformed_testing_matrix[i][temp] += 1\n",
    "\n",
    "#然后我们可以用转换后的训练集特征和label训练我们的LR模型，并对测试集进行测试：\n",
    "lm = LogisticRegression(penalty='l2',C=0.05) # logestic model construction   L2惩罚 C为正则化系数λ的倒数，通常默认为1\n",
    "lm.fit(transformed_training_matrix,Y_1)  # fitting the data\n",
    "#我们这里得到的不是简单的类别，而是每个类别的概率。\n",
    "y_pred_test = lm.predict_proba(transformed_testing_matrix)   # Give the probabilty on each label\n",
    "predictions=lm.predict(transformed_testing_matrix) \n",
    "matrix = confusion_matrix(predictions, Y_2) #显示混淆矩阵\n",
    "score = logic_clf.score(X_test, Y_2) # 用模型对X_2进行测试，并与Y_2比较，获得准确率\n",
    "print(\"accuracy:\",score)\n",
    "matrix  "
   ]
  },
  {
   "cell_type": "code",
   "execution_count": 29,
   "metadata": {},
   "outputs": [
    {
     "name": "stdout",
     "output_type": "stream",
     "text": [
      "Normalized Cross Entropy 1.871739686588202\n"
     ]
    }
   ],
   "source": [
    "NE = (-1) / len(y_pred_test) * sum(((1+Y_2)/2 * np.log(y_pred_test[:,1]) +  (1-Y_2)/2 * np.log(1 - y_pred_test[:,1])))\n",
    "print(\"Normalized Cross Entropy \" + str(NE))"
   ]
  },
  {
   "cell_type": "code",
   "execution_count": 37,
   "metadata": {},
   "outputs": [],
   "source": [
    "X_train, X_test, Y_train, Y_test = train_test_split(X, y, test_size=0.2, random_state=0)\n",
    "X_train, X_train_lr, Y_train, Y_train_lr = train_test_split(X_train, Y_train, random_state=233, test_size=0.2)"
   ]
  },
  {
   "cell_type": "code",
   "execution_count": 48,
   "metadata": {},
   "outputs": [],
   "source": [
    "def XGBoostLR():\n",
    "    XGB = xgb.XGBClassifier(nthread=4, learning_rate=0.08, n_estimators=100, colsample_bytree=0.5)\n",
    "    XGB.fit(X_train, Y_train)\n",
    "    OHE = OneHotEncoder()\n",
    "    OHE.fit(XGB.apply(X_train))\n",
    "    LR = LogisticRegression(n_jobs=4, C=0.1, penalty='l2')\n",
    "    LR.fit(OHE.transform(XGB.apply(X_train_lr)), Y_train_lr)\n",
    "    Y_pred = LR.predict_proba(OHE.transform(XGB.apply(X_test)))[:, 1]\n",
    "    fpr, tpr, _ = roc_curve(Y_test, Y_pred)\n",
    "    auc = roc_auc_score(Y_test, Y_pred)\n",
    "    print('XGBoost + LogisticRegression: ', auc)\n",
    "    return fpr, tpr\n"
   ]
  },
  {
   "cell_type": "code",
   "execution_count": 49,
   "metadata": {},
   "outputs": [],
   "source": [
    "def GBDTLR():\n",
    "    GBDT = GradientBoostingClassifier(n_estimators=10)\n",
    "    GBDT.fit(X_train, Y_train)\n",
    "    OHE = OneHotEncoder()\n",
    "    OHE.fit(GBDT.apply(X_train)[:, :, 0])\n",
    "    LR = LogisticRegression(n_jobs=4, C=0.1, penalty='l2')\n",
    "    LR.fit(OHE.transform(GBDT.apply(X_train_lr)[:, :, 0]), Y_train_lr)\n",
    "    Y_pred = LR.predict_proba(OHE.transform(GBDT.apply(X_test)[:, :, 0]))[:, 1]\n",
    "    fpr, tpr, _ = roc_curve(Y_test, Y_pred)\n",
    "    auc = roc_auc_score(Y_test, Y_pred)\n",
    "    print('GradientBoosting + LogisticRegression: ', auc)\n",
    "    return fpr, tpr"
   ]
  },
  {
   "cell_type": "code",
   "execution_count": 50,
   "metadata": {},
   "outputs": [],
   "source": [
    "def LR():\n",
    "    LR = LogisticRegression(n_jobs=4, C=0.1, penalty='l2')\n",
    "    LR.fit(X_train, Y_train)\n",
    "    Y_pred = LR.predict_proba(X_test)[:, 1]\n",
    "    fpr, tpr, _ = roc_curve(Y_test, Y_pred)\n",
    "    auc = roc_auc_score(Y_test, Y_pred)\n",
    "    print('LogisticRegression: ', auc)\n",
    "    return fpr, tpr"
   ]
  },
  {
   "cell_type": "code",
   "execution_count": 51,
   "metadata": {},
   "outputs": [],
   "source": [
    "def XGBoost():\n",
    "    XGB = xgb.XGBClassifier(nthread=4, learning_rate=0.08, n_estimators=100, colsample_bytree=0.5)\n",
    "    XGB.fit(X_train, Y_train)\n",
    "    Y_pred = XGB.predict_proba(X_test)[:, 1]\n",
    "    fpr, tpr, _ = roc_curve(Y_test, Y_pred)\n",
    "    auc = roc_auc_score(Y_test, Y_pred)\n",
    "    print('XGBoost: ', auc)\n",
    "    return fpr, tpr"
   ]
  },
  {
   "cell_type": "code",
   "execution_count": 53,
   "metadata": {},
   "outputs": [
    {
     "name": "stdout",
     "output_type": "stream",
     "text": [
      "XGBoost + LogisticRegression:  0.8529694486134867\n",
      "XGBoost:  0.8688795826485716\n",
      "LogisticRegression:  0.7773181138467461\n",
      "GradientBoosting + LogisticRegression:  0.8440575018904632\n"
     ]
    },
    {
     "data": {
      "image/png": "[encoded data removed]",
      "text/plain": [
       "<Figure size 432x288 with 1 Axes>"
      ]
     },
     "metadata": {},
     "output_type": "display_data"
    },
    {
     "data": {
      "image/png": "[encoded data removed]",
      "text/plain": [
       "<Figure size 432x288 with 1 Axes>"
      ]
     },
     "metadata": {},
     "output_type": "display_data"
    }
   ],
   "source": [
    "    fpr_xgb_lr, tpr_xgb_lr = XGBoostLR()\n",
    "    fpr_xgb, tpr_xgb = XGBoost()\n",
    "    fpr_lr, tpr_lr = LR()\n",
    "    fpr_gbdt_lr, tpr_gbdt_lr = GBDTLR()\n",
    "\n",
    "    plt.figure(1)\n",
    "    plt.plot([0, 1], [0, 1], 'k--')\n",
    "    plt.plot(fpr_gbdt_lr, tpr_gbdt_lr, label='GBT + LR')\n",
    "    plt.plot(fpr_xgb, tpr_xgb, label='XGB')\n",
    "    plt.plot(fpr_lr, tpr_lr, label='LR')\n",
    "    plt.plot(fpr_xgb_lr, tpr_xgb_lr, label='XGB + LR')\n",
    "    plt.xlabel('False positive rate')\n",
    "    plt.ylabel('True positive rate')\n",
    "    plt.title('ROC curve')\n",
    "    plt.legend(loc='best')\n",
    "    plt.show()\n",
    "\n",
    "    plt.figure(2)\n",
    "    plt.xlim(0, 0.2)\n",
    "    plt.ylim(0.8, 1)\n",
    "    plt.plot([0, 1], [0, 1], 'k--')\n",
    "    plt.plot(fpr_gbdt_lr, tpr_gbdt_lr, label='GBT + LR')\n",
    "    plt.plot(fpr_xgb, tpr_xgb, label='XGB')\n",
    "    plt.plot(fpr_lr, tpr_lr, label='LR')\n",
    "    plt.plot(fpr_xgb_lr, tpr_xgb_lr, label='XGB + LR')\n",
    "    plt.xlabel('False positive rate')\n",
    "    plt.ylabel('True positive rate')\n",
    "    plt.title('ROC curve (zoomed in at top left)')\n",
    "    plt.legend(loc='best')\n",
    "    plt.show()\n"
   ]
  },
  {
   "cell_type": "code",
   "execution_count": null,
   "metadata": {},
   "outputs": [],
   "source": []
  }
 ],
 "metadata": {
  "kernelspec": {
   "display_name": "Python 3",
   "language": "python",
   "name": "python3"
  },
  "language_info": {
   "codemirror_mode": {
    "name": "ipython",
    "version": 3
   },
   "file_extension": ".py",
   "mimetype": "text/x-python",
   "name": "python",
   "nbconvert_exporter": "python",
   "pygments_lexer": "ipython3",
   "version": "3.5.2"
  }
 },
 "nbformat": 4,
 "nbformat_minor": 2
}
